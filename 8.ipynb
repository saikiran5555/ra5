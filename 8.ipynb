{
 "cells": [
  {
   "cell_type": "markdown",
   "id": "6f663e79",
   "metadata": {},
   "source": [
    "Pickling and unpickling in Python are common techniques used for saving (serializing) and loading (deserializing) Python objects, including machine learning models like an Elastic Net Regression model. This is particularly useful for saving a trained model so that it can be reused later without the need to retrain it"
   ]
  }
 ],
 "metadata": {
  "kernelspec": {
   "display_name": "Python 3 (ipykernel)",
   "language": "python",
   "name": "python3"
  },
  "language_info": {
   "codemirror_mode": {
    "name": "ipython",
    "version": 3
   },
   "file_extension": ".py",
   "mimetype": "text/x-python",
   "name": "python",
   "nbconvert_exporter": "python",
   "pygments_lexer": "ipython3",
   "version": "3.10.9"
  }
 },
 "nbformat": 4,
 "nbformat_minor": 5
}
